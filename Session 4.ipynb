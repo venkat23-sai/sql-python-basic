{
 "cells": [
  {
   "cell_type": "markdown",
   "metadata": {
    "application/vnd.databricks.v1+cell": {
     "cellMetadata": {},
     "inputWidgets": {},
     "nuid": "a9b1fa62-d36e-465e-8302-dcbfac301eb0",
     "showTitle": false,
     "tableResultSettingsMap": {},
     "title": ""
    }
   },
   "source": [
    "Dictionary\n",
    "\n",
    "List - [] - Mutable\n",
    "Tuple - () - Immutable\n",
    "Dictionary - {key: value}, my_dict = {}\n",
    "\n",
    "Dictionary is changeable.\n",
    "\n",
    "There is no indexing in  dictionary\n",
    "\n",
    "**Key should be of Immutable data type**\n",
    "\n"
   ]
  },
  {
   "cell_type": "code",
   "execution_count": 0,
   "metadata": {
    "application/vnd.databricks.v1+cell": {
     "cellMetadata": {},
     "inputWidgets": {},
     "nuid": "796dd67d-8c12-4270-8318-f8a5239161f0",
     "showTitle": false,
     "tableResultSettingsMap": {},
     "title": ""
    }
   },
   "outputs": [],
   "source": [
    "l1 = [5,6,7,1,2]\n",
    "\n",
    "l1[3]"
   ]
  },
  {
   "cell_type": "code",
   "execution_count": 0,
   "metadata": {
    "application/vnd.databricks.v1+cell": {
     "cellMetadata": {
      "byteLimit": 2048000,
      "rowLimit": 10000
     },
     "inputWidgets": {},
     "nuid": "88d75a90-be19-41c8-9714-de5ba3b9f330",
     "showTitle": false,
     "tableResultSettingsMap": {},
     "title": ""
    }
   },
   "outputs": [],
   "source": [
    "dict_word = {\n",
    "  \"Car\" : \"A 4 wheeler\",\n",
    "  \"Truck\" : \"A commercial Vehicle\",\n",
    "  \"Bike\": \"A 2 wheeler\"\n",
    "}"
   ]
  },
  {
   "cell_type": "code",
   "execution_count": 0,
   "metadata": {
    "application/vnd.databricks.v1+cell": {
     "cellMetadata": {
      "byteLimit": 2048000,
      "rowLimit": 10000
     },
     "inputWidgets": {},
     "nuid": "dcb3df95-5e2c-42e5-89f1-961b30952aba",
     "showTitle": false,
     "tableResultSettingsMap": {},
     "title": ""
    }
   },
   "outputs": [
    {
     "output_type": "stream",
     "name": "stdout",
     "output_type": "stream",
     "text": [
      "{'Car': 'A 4 wheeler', 'Truck': 'A commercial Vehicle', 'Bike': 'A 2 wheeler'}\n<class 'dict'>\nA 2 wheeler\n"
     ]
    }
   ],
   "source": [
    "print(dict_word)\n",
    "print(type(dict_word))\n",
    "print(dict_word[\"Bike\"])"
   ]
  },
  {
   "cell_type": "markdown",
   "metadata": {
    "application/vnd.databricks.v1+cell": {
     "cellMetadata": {},
     "inputWidgets": {},
     "nuid": "c272609c-b76a-4bf3-8918-f823ab92c9d4",
     "showTitle": false,
     "tableResultSettingsMap": {},
     "title": ""
    }
   },
   "source": [
    "Split Method\n",
    "\n"
   ]
  },
  {
   "cell_type": "code",
   "execution_count": 0,
   "metadata": {
    "application/vnd.databricks.v1+cell": {
     "cellMetadata": {
      "byteLimit": 2048000,
      "rowLimit": 10000
     },
     "inputWidgets": {},
     "nuid": "3144c66a-97fe-4f47-b406-338e0cf7bff1",
     "showTitle": false,
     "tableResultSettingsMap": {},
     "title": ""
    }
   },
   "outputs": [
    {
     "output_type": "stream",
     "name": "stdout",
     "output_type": "stream",
     "text": [
      "['I', 'love', 'my', 'country']\n4\n"
     ]
    }
   ],
   "source": [
    "s1 = \"I love my country\"\n",
    "\n",
    "#How many distinct words are there in this string\n",
    "\n",
    "s1_list = s1.split(\" \")\n",
    "print(s1_list)\n",
    "\n",
    "print(len(s1_list))\n",
    "\n",
    "\n",
    "\n",
    "\n"
   ]
  },
  {
   "cell_type": "code",
   "execution_count": 0,
   "metadata": {
    "application/vnd.databricks.v1+cell": {
     "cellMetadata": {
      "byteLimit": 2048000,
      "rowLimit": 10000
     },
     "inputWidgets": {},
     "nuid": "f7e92bc6-f979-4eb5-a476-7cfa42d857e4",
     "showTitle": false,
     "tableResultSettingsMap": {},
     "title": ""
    }
   },
   "outputs": [
    {
     "output_type": "stream",
     "name": "stdout",
     "output_type": "stream",
     "text": [
      "I love my country\n"
     ]
    }
   ],
   "source": [
    "#Hey, I want to convert list into string\n",
    "# my_string  = str(s1_list)\n",
    "# print(my_string)\n",
    "# print(my_string[5])\n",
    "# print(type(my_string))\n",
    "\n",
    "s1_out_string = \" \".join(s1_list)\n",
    "print(s1_out_string)\n",
    "\n",
    "\n",
    "\n"
   ]
  },
  {
   "cell_type": "code",
   "execution_count": 0,
   "metadata": {
    "application/vnd.databricks.v1+cell": {
     "cellMetadata": {
      "byteLimit": 2048000,
      "rowLimit": 10000
     },
     "inputWidgets": {},
     "nuid": "3a41256d-152d-43c9-beeb-084a31c4e5bb",
     "showTitle": false,
     "tableResultSettingsMap": {},
     "title": ""
    }
   },
   "outputs": [
    {
     "output_type": "stream",
     "name": "stdout",
     "output_type": "stream",
     "text": [
      "{'Car': 'A 4 wheeler', 'Truck': 'A commercial Vehicle', 'Bike': 'A 2 wheeler', (1, 2, 3): 'This is a list defined under a tuple', 1: 'one', 123: ['one', 'two', 'three']}\n"
     ]
    }
   ],
   "source": [
    "dict_word_2 = {\n",
    "  \"Car\" : \"A 4 wheeler\",\n",
    "  \"Truck\" : \"A commercial Vehicle\",\n",
    "  \"Bike\": \"A 2 wheeler\",\n",
    "  tuple([1,2,3]) : \"This is a list defined under a tuple\",\n",
    "  1 : \"one\",\n",
    "  123 : [\"one\",\"two\", \"three\"]\n",
    "}\n",
    "\n",
    "print(dict_word_2)"
   ]
  },
  {
   "cell_type": "code",
   "execution_count": 0,
   "metadata": {
    "application/vnd.databricks.v1+cell": {
     "cellMetadata": {
      "byteLimit": 2048000,
      "rowLimit": 10000
     },
     "inputWidgets": {},
     "nuid": "39913673-bd55-4f2f-8205-0ce6870807d3",
     "showTitle": false,
     "tableResultSettingsMap": {},
     "title": ""
    }
   },
   "outputs": [
    {
     "output_type": "stream",
     "name": "stdout",
     "output_type": "stream",
     "text": [
      "A commercial Vehicle and it has more than 8 tyre\nNone\n{'Car': 'A 4 wheeler', 'Truck': 'A commercial Vehicle and it has more than 8 tyre', 'Bike': 'A 2 wheeler', (1, 2, 3): 'This is a list defined under a tuple', 1: 'one', 123: ['one', 'two', 'three']}\n{'Car': 'A 4 wheeler', 'Truck': 'A commercial Vehicle and it has more than 8 tyre', 'Bike': 'A 2 wheeler', (1, 2, 3): 'This is a list defined under a tuple', 1: 'one', 123: ['one', 'two', 'three'], 'Medium': 'Teams'}\n"
     ]
    }
   ],
   "source": [
    "# dict_word_2[\"Auto\"]\n",
    "\n",
    "print(dict_word_2.get(\"Truck\"))\n",
    "print(dict_word_2.get(\"Auto\"))\n",
    "\n",
    "dict_word_2[\"Truck\"] = \"A commercial Vehicle and it has more than 8 tyre\"\n",
    "\n",
    "print(dict_word_2)\n",
    "\n",
    "dict_word_2[\"Medium\"] = \"Teams\"\n",
    "\n",
    "print(dict_word_2)\n",
    "\n"
   ]
  },
  {
   "cell_type": "code",
   "execution_count": 0,
   "metadata": {
    "application/vnd.databricks.v1+cell": {
     "cellMetadata": {
      "byteLimit": 2048000,
      "rowLimit": 10000
     },
     "inputWidgets": {},
     "nuid": "993d7b64-e691-42fd-b4bf-636cacfe6e47",
     "showTitle": false,
     "tableResultSettingsMap": {},
     "title": ""
    }
   },
   "outputs": [
    {
     "output_type": "stream",
     "name": "stdout",
     "output_type": "stream",
     "text": [
      "15000\n{101: 10000, 102: 20000, 103: 15000}\n15000\nNone\ndict_values([10000, 20000, 15000])\ndict_keys([101, 102, 103])\n3\n{}\n"
     ]
    }
   ],
   "source": [
    "orders_data = [(101,10000),(102,20000),(103,15000)]\n",
    "\n",
    "print(list(orders_data[2])[1])\n",
    "\n",
    "orders_data_dict = dict(orders_data)\n",
    "\n",
    "print(orders_data_dict)\n",
    "\n",
    "print(orders_data_dict[103])\n",
    "\n",
    "print(orders_data_dict.get(104))\n",
    "\n",
    "print(orders_data_dict.values())\n",
    "\n",
    "print(orders_data_dict.keys())\n",
    "\n",
    "print(len(orders_data_dict))\n",
    "\n",
    "orders_data_dict.clear()\n",
    "\n",
    "print(orders_data_dict)\n",
    "\n",
    "\n",
    "\n",
    "\n",
    "\n"
   ]
  },
  {
   "cell_type": "code",
   "execution_count": 0,
   "metadata": {
    "application/vnd.databricks.v1+cell": {
     "cellMetadata": {
      "byteLimit": 2048000,
      "rowLimit": 10000
     },
     "inputWidgets": {},
     "nuid": "3fd5fed3-8252-4e56-b5a5-467ca17c8453",
     "showTitle": false,
     "tableResultSettingsMap": {},
     "title": ""
    }
   },
   "outputs": [
    {
     "output_type": "stream",
     "name": "stdout",
     "output_type": "stream",
     "text": [
      "id, name, city, state\n['1, Ram, Ayodhya, UP', '2, Shyam, Mathura, UP', '3, Harry, Delhi, Delhi', '4, Maddy, Mumbai, Maharashtra', '5, Banerjee, Kolkata, WB', '']\n<class 'list'>\nKolkata, WB\n['1, Ram, Ayodhya, UP', '2, Shyam, Mathura, UP', '3, Harry, Delhi, Delhi', '4, Maddy, Mumbai, Maharashtra', '5, Banerjee, Kolkata, WB', '']\n"
     ]
    }
   ],
   "source": [
    "raw_data = \"\"\"id, name, city, state\n",
    "1, Ram, Ayodhya, UP\n",
    "2, Shyam, Mathura, UP\n",
    "3, Harry, Delhi, Delhi\n",
    "4, Maddy, Mumbai, Maharashtra\n",
    "5, Banerjee, Kolkata, WB\n",
    "\"\"\"\n",
    "\n",
    "\n",
    "header_of_raw_data = raw_data.split(\"\\n\")[0]\n",
    "print(header_of_raw_data )\n",
    "\n",
    "clean_data_from_raw_data = raw_data.split(\"\\n\")[1:]\n",
    "print(clean_data_from_raw_data)\n",
    "\n",
    "print(type(clean_data_from_raw_data))\n",
    "\n",
    "print(clean_data_from_raw_data[4][13:])\n",
    "\n",
    "print(clean_data_from_raw_data)"
   ]
  },
  {
   "cell_type": "code",
   "execution_count": 0,
   "metadata": {
    "application/vnd.databricks.v1+cell": {
     "cellMetadata": {
      "byteLimit": 2048000,
      "rowLimit": 10000
     },
     "inputWidgets": {},
     "nuid": "83d7f870-9344-4c5c-8dfe-776bc8bad843",
     "showTitle": false,
     "tableResultSettingsMap": {},
     "title": ""
    }
   },
   "outputs": [
    {
     "output_type": "stream",
     "name": "stdout",
     "output_type": "stream",
     "text": [
      "{'1': (' Ram', ' Ayodhya', ' UP'), '2': (' Shyam', ' Mathura', ' UP'), '3': (' Harry', ' Delhi', ' Delhi'), '4': (' Maddy', ' Mumbai', ' Maharashtra'), '5': (' Banerjee', ' Kolkata', ' WB'), '': ()}\n(' Maddy', ' Mumbai', ' Maharashtra')\n"
     ]
    }
   ],
   "source": [
    "customer_dict = {}\n",
    "for x in clean_data_from_raw_data:\n",
    "  customer_dict[x.split(\",\")[0]] = tuple(x.split(\",\")[1:])\n",
    "print(customer_dict)\n",
    "\n",
    "print(customer_dict[\"4\"])\n"
   ]
  },
  {
   "cell_type": "code",
   "execution_count": 0,
   "metadata": {
    "application/vnd.databricks.v1+cell": {
     "cellMetadata": {
      "byteLimit": 2048000,
      "rowLimit": 10000
     },
     "inputWidgets": {},
     "nuid": "b574bbca-eddc-4abf-9127-cdde3f87eb66",
     "showTitle": false,
     "tableResultSettingsMap": {},
     "title": ""
    }
   },
   "outputs": [
    {
     "output_type": "stream",
     "name": "stdout",
     "output_type": "stream",
     "text": [
      "[1, 9, 25, 49, 81]\n[1, 9, 25, 49, 81]\n[1, 125, 343, 729]\n[4, 16, 36, 64]\n"
     ]
    }
   ],
   "source": [
    "\n",
    "\n",
    "l1 = [1,3,5,7,9]\n",
    "l2 = []\n",
    "\n",
    "for x in l1:\n",
    "  l2.append(x**2)\n",
    "print(l2)\n",
    "\n",
    "l3 = [x**2 for x in l1]\n",
    "\n",
    "print(l3)\n",
    "\n",
    "l3 = [x**3 for x in l1 if x!=3]\n",
    "print(l3)\n",
    "\n",
    "l5 = [1,2,3,4,5,6,7,8,9]\n",
    "\n",
    "l6 = [x**2 for x in l5 if x%2==0]\n",
    "\n",
    "print(l6)\n",
    "\n",
    "\n",
    "\n",
    "\n",
    "#Square all elements present in the list"
   ]
  },
  {
   "cell_type": "code",
   "execution_count": 0,
   "metadata": {
    "application/vnd.databricks.v1+cell": {
     "cellMetadata": {
      "byteLimit": 2048000,
      "rowLimit": 10000
     },
     "inputWidgets": {},
     "nuid": "5c6f67a7-c27a-4a7e-8e0c-39df581d2f19",
     "showTitle": false,
     "tableResultSettingsMap": {},
     "title": ""
    }
   },
   "outputs": [
    {
     "output_type": "stream",
     "name": "stdout",
     "output_type": "stream",
     "text": [
      "[[1, 200, 'Closed'], [3, 500, 'Closed']]\n[[1, 200, 'Closed'], [3, 500, 'Closed']]\n"
     ]
    }
   ],
   "source": [
    "olist = [[1,200,'Closed'],[2,300,'Pending Payment'],[3,500,'Closed']]\n",
    "empty_list = []\n",
    "\n",
    "for x in olist:\n",
    "  if x[2]=='Closed':\n",
    "    empty_list.append(x)\n",
    "  \n",
    "print(empty_list)\n",
    "\n",
    "\n",
    "empty_list_lc = [x for x in olist if x[2]=='Closed']\n",
    "print(empty_list_lc)"
   ]
  },
  {
   "cell_type": "markdown",
   "metadata": {
    "application/vnd.databricks.v1+cell": {
     "cellMetadata": {},
     "inputWidgets": {},
     "nuid": "6767d3d4-927b-457b-a02d-173c8a1dac9f",
     "showTitle": false,
     "tableResultSettingsMap": {},
     "title": ""
    }
   },
   "source": [
    "2002 - GFS - To distribute data in storage\n",
    "2004 - Google Map Reduce 2004 - To process the distributed data.\n",
    "\n",
    "2005-06  - Dough Cudding (Father of Hadoop)\n",
    "\n",
    "Hadoop - HDFS,MR\n",
    "\n",
    "Apache Hadoop is an open source.\n",
    "\n",
    "Problems :\n",
    "1) Volume \n",
    "2) Value (Quality of data)\n",
    "3) Velocity (Speed of transaction)\n",
    "\n",
    "\n",
    "Where to store this data ? -- Storage problem -> HDFS(Hadoop distributed file system)\n",
    "How to process this stored data ? --Processing problem (Map Reduce)\n"
   ]
  },
  {
   "cell_type": "markdown",
   "metadata": {
    "application/vnd.databricks.v1+cell": {
     "cellMetadata": {},
     "inputWidgets": {},
     "nuid": "e7e6492a-39c8-49ba-849b-803392cac8cf",
     "showTitle": false,
     "tableResultSettingsMap": {},
     "title": ""
    }
   },
   "source": [
    "\n",
    "Map Reduce is for paraller processing"
   ]
  },
  {
   "cell_type": "code",
   "execution_count": 0,
   "metadata": {
    "application/vnd.databricks.v1+cell": {
     "cellMetadata": {},
     "inputWidgets": {},
     "nuid": "b2b1a58f-7931-4f53-89fd-cc9ec8d4dedc",
     "showTitle": false,
     "tableResultSettingsMap": {},
     "title": ""
    }
   },
   "outputs": [],
   "source": [
    "Commercial Hadoop - Cloudera"
   ]
  },
  {
   "cell_type": "code",
   "execution_count": 0,
   "metadata": {
    "application/vnd.databricks.v1+cell": {
     "cellMetadata": {},
     "inputWidgets": {},
     "nuid": "2d9f5bc0-c232-43e3-b17b-9ce2eeed0737",
     "showTitle": false,
     "tableResultSettingsMap": {},
     "title": ""
    }
   },
   "outputs": [],
   "source": [
    "--Basic Linux\n",
    "--Learn SQL\n",
    "--Python\n",
    "--Big Data theory\n",
    "--Cloud"
   ]
  },
  {
   "cell_type": "code",
   "execution_count": 0,
   "metadata": {
    "application/vnd.databricks.v1+cell": {
     "cellMetadata": {},
     "inputWidgets": {},
     "nuid": "1869be9e-1cc6-4ab8-b0f2-a0116daf41bb",
     "showTitle": false,
     "tableResultSettingsMap": {},
     "title": ""
    }
   },
   "outputs": [],
   "source": [
    "Hadoop Framework\n",
    "\n",
    "Hive provides SQL support for Mapreduce\n",
    "\n",
    "Pig - Yahoo\n",
    "\n",
    "Sqoop helps in transferring data from RDBMS to HDFS and vice versa.\n",
    "\n",
    "What is the diff between Sqoop and Flume?\n",
    "\n",
    "Sqoop - only works with RDBMS\n",
    "Flume can work with other apps, only retrieve data to HDFS.\n"
   ]
  },
  {
   "cell_type": "code",
   "execution_count": 0,
   "metadata": {
    "application/vnd.databricks.v1+cell": {
     "cellMetadata": {},
     "inputWidgets": {},
     "nuid": "f23e1521-8305-4d83-8d60-ab7b44c3a71e",
     "showTitle": false,
     "tableResultSettingsMap": {},
     "title": ""
    }
   },
   "outputs": [],
   "source": [
    "HDFS,Hbase - Storage\n",
    "\n",
    "MR, Hive,Pig - Data processing \n",
    "\n",
    "Sqoop, flume - Acts as data pipeline to bring data in and out.In\n",
    "\n",
    "Oozie - Scheduler\n",
    "\n",
    "Mahout - Data Science \n",
    "\n",
    "\n",
    "\n",
    "Store data -> transform data -> MR,Hive,Pig -> oozie -> \n",
    "\n",
    "\n",
    "\n"
   ]
  },
  {
   "cell_type": "code",
   "execution_count": 0,
   "metadata": {
    "application/vnd.databricks.v1+cell": {
     "cellMetadata": {},
     "inputWidgets": {},
     "nuid": "e69eba2a-2cf3-44dc-9756-2596bc2ee26d",
     "showTitle": false,
     "tableResultSettingsMap": {},
     "title": ""
    }
   },
   "outputs": [],
   "source": [
    "2 types of framework:\n",
    "  \n",
    "  Loosely coupled (Hadoop Framework)\n",
    "  Tightly coupled (c#)"
   ]
  },
  {
   "cell_type": "code",
   "execution_count": 0,
   "metadata": {
    "application/vnd.databricks.v1+cell": {
     "cellMetadata": {},
     "inputWidgets": {},
     "nuid": "b2f62a6b-cccd-4c82-bac7-e2744e2e45bf",
     "showTitle": false,
     "tableResultSettingsMap": {},
     "title": ""
    }
   },
   "outputs": [],
   "source": [
    "HDFS\n",
    "\n",
    "Hadoop Distributed file system\n",
    "\n",
    "StandAlone - NTFS, Exception\n",
    "Distributed - HDS, S3, CFS"
   ]
  }
 ],
 "metadata": {
  "application/vnd.databricks.v1+notebook": {
   "dashboards": [],
   "environmentMetadata": null,
   "language": "python",
   "notebookMetadata": {
    "pythonIndentUnit": 2
   },
   "notebookName": "Session 4",
   "widgets": {}
  }
 },
 "nbformat": 4,
 "nbformat_minor": 0
}
